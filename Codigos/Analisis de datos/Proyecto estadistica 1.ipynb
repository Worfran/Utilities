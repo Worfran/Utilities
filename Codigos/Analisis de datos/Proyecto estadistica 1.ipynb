{
 "cells": [
  {
   "cell_type": "markdown",
   "id": "066dc25c",
   "metadata": {},
   "source": [
    " # Impelementacion de Principal Analisis Componet sobre un set de datos aleatorio  "
   ]
  },
  {
   "cell_type": "markdown",
   "id": "492fb26b",
   "metadata": {},
   "source": [
    "## Importacion de Librerias"
   ]
  },
  {
   "cell_type": "code",
   "execution_count": 12,
   "id": "d1f2b113",
   "metadata": {},
   "outputs": [],
   "source": [
    "import numpy as np\n",
    "import seaborn as sb\n",
    "import matplotlib.pyplot as plt"
   ]
  },
  {
   "cell_type": "markdown",
   "id": "ab311c45",
   "metadata": {},
   "source": [
    "## Implementacion "
   ]
  },
  {
   "cell_type": "markdown",
   "id": "03b5d9e8",
   "metadata": {},
   "source": [
    "#### Creación del set de datos"
   ]
  },
  {
   "cell_type": "code",
   "execution_count": 13,
   "id": "4ed2ea77",
   "metadata": {},
   "outputs": [],
   "source": [
    "#Creacion de un set de datos dummy\n",
    "\n",
    "df = np.random.randint(10,50,100).reshape(20,5)\n",
    "\n",
    "df_mean = df - np.mean(df, axis=0)\n",
    "\n",
    "#El axis =0 hace referencia a que queremos calcular la media a lo largo de las colunas del data frame\n"
   ]
  },
  {
   "cell_type": "markdown",
   "id": "05f9b24b",
   "metadata": {},
   "source": [
    "#### Ahora procedemos a calculamos la matriz de covarianza\n"
   ]
  },
  {
   "cell_type": "code",
   "execution_count": 14,
   "id": "e59c5be2",
   "metadata": {},
   "outputs": [],
   "source": [
    "M = np.cov(df_mean, rowvar = False)\n",
    "\n",
    "\"\"\" \n",
    "rowvar indica como están organizados nuestros datos, para este caso lo asignamos \n",
    "a false indicando que las variables estan organizadas en columnas y cada fila es una \n",
    "toma de las variables\n",
    "\"\"\"\n",
    "#valores y vectores propios\n",
    "\n",
    "eigenvalues, eigenvectors = np.linalg.eigh(M)\n",
    "\n",
    "#Ahora buscamos el valor propio más grande \n",
    "\n",
    "e_values= np.argsort(eigenvalues)\n",
    "\n",
    "index = e_values[::-1] #Esta notacion en el indice esta indicando que queremos escoger los valores de atras hacia adelante\n",
    "\n",
    "#hacemos un masking con los indices encontrados para ordenar los arrays de los vectores\n",
    "sorted_values = eigenvalues[index] \n",
    "sorted_eigenvectors = eigenvectors[:,index] #esto indica que vamos ha hacer el masking a lo largo de las columnas\n",
    "\n",
    "\n",
    "\n"
   ]
  },
  {
   "cell_type": "code",
   "execution_count": 15,
   "id": "cc480ea1",
   "metadata": {},
   "outputs": [],
   "source": [
    "#Selecionamos la cantidad de componentes que vamos a usar por simplicidad escogimos dos\n",
    "\n",
    "n = 2 \n",
    "N = sorted_eigenvectors[:,0:n]\n",
    "\n",
    "#Re escribimos la data en la nueva base\n",
    "df_reduced = np.dot(N.transpose(),df_mean.transpose()).transpose()"
   ]
  },
  {
   "cell_type": "markdown",
   "id": "4189ac89",
   "metadata": {},
   "source": [
    "#### Graficamos"
   ]
  },
  {
   "cell_type": "code",
   "execution_count": 19,
   "id": "23bf7400",
   "metadata": {},
   "outputs": [
    {
     "data": {
      "text/plain": [
       "<AxesSubplot:>"
      ]
     },
     "execution_count": 19,
     "metadata": {},
     "output_type": "execute_result"
    },
    {
     "data": {
      "image/png": "[encoded data removed]",
      "text/plain": [
       "<Figure size 432x432 with 1 Axes>"
      ]
     },
     "metadata": {
      "needs_background": "light"
     },
     "output_type": "display_data"
    }
   ],
   "source": [
    "\n",
    "plt.figure(figsize = (6,6))\n",
    "sb.scatterplot(data = df_reduced  , s = 60 , palette= 'icefire')\n"
   ]
  },
  {
   "cell_type": "code",
   "execution_count": null,
   "id": "12d6c3a7",
   "metadata": {},
   "outputs": [],
   "source": []
  }
 ],
 "metadata": {
  "kernelspec": {
   "display_name": "Python 3 (ipykernel)",
   "language": "python",
   "name": "python3"
  },
  "language_info": {
   "codemirror_mode": {
    "name": "ipython",
    "version": 3
   },
   "file_extension": ".py",
   "mimetype": "text/x-python",
   "name": "python",
   "nbconvert_exporter": "python",
   "pygments_lexer": "ipython3",
   "version": "3.7.7"
  }
 },
 "nbformat": 4,
 "nbformat_minor": 5
}
