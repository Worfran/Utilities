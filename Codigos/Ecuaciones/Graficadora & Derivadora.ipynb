{
 "cells": [
  {
   "cell_type": "code",
   "execution_count": 1,
   "id": "daba6ccf",
   "metadata": {},
   "outputs": [],
   "source": [
    "import numpy as np\n",
    "import matplotlib.pyplot as plt"
   ]
  },
  {
   "cell_type": "code",
   "execution_count": 2,
   "id": "1cb0f97e",
   "metadata": {},
   "outputs": [],
   "source": [
    "xMin, xMax, N = 0.,2E+5, 20000\n",
    "x = np.linspace(xMin, xMax, N)\n",
    "h = (xMax-xMin)/float(N-1)"
   ]
  },
  {
   "cell_type": "code",
   "execution_count": 3,
   "id": "c367dd9a",
   "metadata": {},
   "outputs": [],
   "source": [
    "def V(x,R1=10E+3,R2=2E+3,C1=100E-9,C2=10E-9):\n",
    "    termino1=np.power((C1*R1*x),2)\n",
    "    termino21=1-np.power((C1*R1*x),2)\n",
    "    termino22=np.power(termino21,2)\n",
    "    termino23=np.power((2*C1*R1*x),2)\n",
    "    termino2=termino22+termino23\n",
    "    termino31=1-np.power((C2*R2*x),2)\n",
    "    termino32=np.power(termino31,2)\n",
    "    termino33=np.power((2*C2*R2*x),2)\n",
    "    termino3=termino32+termino33\n",
    "    return termino1/np.sqrt((termino2*termino3))\n",
    "    "
   ]
  },
  {
   "cell_type": "code",
   "execution_count": 4,
   "id": "80610d2e",
   "metadata": {},
   "outputs": [],
   "source": [
    "def derivador(funcion,x,h=1E-9):\n",
    "    dF=0\n",
    "    dF=(funcion(x+h)-funcion(x-h))/(2*h) \n",
    "    return dF"
   ]
  },
  {
   "cell_type": "code",
   "execution_count": 5,
   "id": "d51ad092",
   "metadata": {},
   "outputs": [],
   "source": [
    "df=derivador(V,x)\n",
    "f=V(x)"
   ]
  },
  {
   "cell_type": "code",
   "execution_count": 12,
   "id": "107d36ea",
   "metadata": {},
   "outputs": [],
   "source": [
    "menor=None\n",
    "mayor=None\n",
    "posm=None\n",
    "posM=None\n",
    "i=0\n",
    "for w in df:\n",
    "    if menor==None:\n",
    "        menor=w\n",
    "        mayor=w\n",
    "        posm=i\n",
    "        posM=i\n",
    "    elif w<menor:\n",
    "        menor=w\n",
    "        posM=i\n",
    "    elif w>mayor:\n",
    "        mayor=w\n",
    "        posm=i\n",
    "    i+=1        "
   ]
  },
  {
   "cell_type": "code",
   "execution_count": 13,
   "id": "5018670b",
   "metadata": {},
   "outputs": [],
   "source": [
    "central=None\n",
    "posC=None\n",
    "i=0\n",
    "for w in df:\n",
    "    if (w<=1E-6) and (w>0):\n",
    "        central=w\n",
    "        posC=i\n",
    "    i+=1        "
   ]
  },
  {
   "cell_type": "code",
   "execution_count": 14,
   "id": "54dea38c",
   "metadata": {},
   "outputs": [
    {
     "name": "stdout",
     "output_type": "stream",
     "text": [
      "580.03\n",
      "28241.41\n",
      "7060.35\n"
     ]
    }
   ],
   "source": [
    "print(round(x[posm],2))\n",
    "print(round(x[posM],2))\n",
    "print(round(x[posC],2))"
   ]
  },
  {
   "cell_type": "code",
   "execution_count": 15,
   "id": "4757f74f",
   "metadata": {},
   "outputs": [
    {
     "data": {
      "image/png": "[encoded data removed]",
      "text/plain": [
       "<Figure size 432x288 with 1 Axes>"
      ]
     },
     "metadata": {
      "needs_background": "light"
     },
     "output_type": "display_data"
    }
   ],
   "source": [
    "plt.plot(x,f, '#566ca9', label='Vout')\n",
    "plt.title('Vout vs W')\n",
    "plt.ylabel('Vout [V]')\n",
    "plt.xlabel('w [Hz]')\n",
    "plt.vlines(x[posm],0,1,'#778f66',label='Frecuencia minima')\n",
    "plt.vlines(x[posM],0,1,'#a78756',label='Frecuencia maxima')\n",
    "plt.vlines(x[posC],0,1,'#a9625b',label='Frecuencia central')\n",
    "plt.legend()\n",
    "plt.savefig('../../Images/Vout')"
   ]
  },
  {
   "cell_type": "code",
   "execution_count": null,
   "id": "aa4abc94",
   "metadata": {},
   "outputs": [],
   "source": []
  }
 ],
 "metadata": {
  "kernelspec": {
   "display_name": "Python 3 (ipykernel)",
   "language": "python",
   "name": "python3"
  },
  "language_info": {
   "codemirror_mode": {
    "name": "ipython",
    "version": 3
   },
   "file_extension": ".py",
   "mimetype": "text/x-python",
   "name": "python",
   "nbconvert_exporter": "python",
   "pygments_lexer": "ipython3",
   "version": "3.7.7"
  }
 },
 "nbformat": 4,
 "nbformat_minor": 5
}
